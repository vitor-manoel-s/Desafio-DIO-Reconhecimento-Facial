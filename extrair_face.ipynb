{
 "cells": [
  {
   "cell_type": "code",
   "execution_count": 4,
   "id": "12e200b0-c6fe-4a45-acd1-1da9a6f686ef",
   "metadata": {},
   "outputs": [],
   "source": [
    "import os\n",
    "import numpy as np\n",
    "from mtcnn import MTCNN\n",
    "from PIL import Image\n",
    "from numpy import asarray"
   ]
  },
  {
   "cell_type": "code",
   "execution_count": 5,
   "id": "2fea9012-4e46-4d97-b2ec-9476a4ff929f",
   "metadata": {},
   "outputs": [],
   "source": [
    "detector = MTCNN()"
   ]
  },
  {
   "cell_type": "code",
   "execution_count": 6,
   "id": "281f6243-afd4-49b3-aa8e-9238201d2402",
   "metadata": {},
   "outputs": [],
   "source": [
    "def extract_face(file, size=(160,160)):\n",
    "\n",
    "  img = Image.open(file) # caminho completo\n",
    "\n",
    "  img = img.convert('RGB')\n",
    "\n",
    "  array = asarray(img)\n",
    "\n",
    "  results = detector.detect_faces(array)\n",
    "\n",
    "  if results:\n",
    "    x1, y1, width, height = results[0]['box']\n",
    "\n",
    "    x2, y2 = x1 + width, y1 + height\n",
    "\n",
    "    face = array[y1:y2, x1:x2]\n",
    "\n",
    "    image = Image.fromarray(face)\n",
    "    image = image.resize(size)\n",
    "\n",
    "    return image\n",
    "  else:\n",
    "    print(f\"No faces detected in {file}. Skipping...\")\n",
    "    return None\n",
    "\n",
    "  return image\n",
    "\n",
    "def flip_image(image):\n",
    "  img = image.transpose(Image.FLIP_LEFT_RIGHT)\n",
    "  return img\n",
    "\n",
    "\n",
    "def load_fotos(directory_src, directory_target):\n",
    "\n",
    "  for filename in os.listdir(directory_src):\n",
    "    if filename == '.ipynb_checkpoints':\n",
    "      continue\n",
    "\n",
    "    path = directory_src + filename\n",
    "    path_target = directory_target + filename\n",
    "\n",
    "    # Create target directory if it doesn't exist\n",
    "    target_dir = os.path.dirname(path_target) # Extract directory from path_target\n",
    "    os.makedirs(target_dir, exist_ok=True)    # Create directory if it doesn't exist\n",
    "\n",
    "    path_target_flip = directory_target + \"flip_\" + filename\n",
    "\n",
    "    face = extract_face(path)\n",
    "\n",
    "    flip_face = flip_image(face)\n",
    "\n",
    "    if face:\n",
    "        face.save(path_target)\n",
    "        flip_face.save(path_target_flip)\n",
    "\n",
    "\n",
    "\n",
    "def load_dir(directory_src, directory_target):\n",
    "\n",
    "  for subdir in os.listdir(directory_src):\n",
    "    if subdir == '.ipynb_checkpoints':\n",
    "      continue\n",
    "\n",
    "    path = directory_src + \"/\" + subdir + \"/\"\n",
    "\n",
    "    path_target = directory_target + \"/\" + subdir + \"/\"\n",
    "\n",
    "    if not os.path.isdir(path):\n",
    "      continue\n",
    "\n",
    "    load_fotos(path, path_target)"
   ]
  },
  {
   "cell_type": "code",
   "execution_count": null,
   "id": "6cd76430-f681-4d10-a4a5-0a30afdca70a",
   "metadata": {},
   "outputs": [],
   "source": [
    "load_dir(\"Reconhecimento Facial\\\\fotos\",\n",
    "         \"Reconhecimento Facial\\\\faces\")"
   ]
  },
  {
   "cell_type": "code",
   "execution_count": null,
   "id": "2f0129e6-330f-4ce2-9b37-40f785bfac01",
   "metadata": {},
   "outputs": [],
   "source": []
  }
 ],
 "metadata": {
  "kernelspec": {
   "display_name": "Python 3",
   "language": "python",
   "name": "python3"
  },
  "language_info": {
   "codemirror_mode": {
    "name": "ipython",
    "version": 3
   },
   "file_extension": ".py",
   "mimetype": "text/x-python",
   "name": "python",
   "nbconvert_exporter": "python",
   "pygments_lexer": "ipython3",
   "version": "3.6.13"
  }
 },
 "nbformat": 4,
 "nbformat_minor": 5
}
