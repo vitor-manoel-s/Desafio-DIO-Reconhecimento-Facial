{
 "cells": [
  {
   "cell_type": "markdown",
   "id": "129dc1dd",
   "metadata": {},
   "source": [
    "- Tensorflow 2.2.0\n",
    "- Python 3.6.13\n",
    "- opencv 4.5.4.60"
   ]
  },
  {
   "cell_type": "code",
   "execution_count": 11,
   "id": "c40f0f20-e35f-42f1-8265-41a367005e2f",
   "metadata": {},
   "outputs": [],
   "source": [
    "import os\n",
    "import cv2\n",
    "import json\n",
    "import numpy as np\n",
    "from tensorflow.keras.models import load_model"
   ]
  },
  {
   "cell_type": "markdown",
   "id": "aa7e4aa2",
   "metadata": {},
   "source": [
    "Link para download do facenet.h5: https://github.com/nyoki-mtl/keras-facenet"
   ]
  },
  {
   "cell_type": "code",
   "execution_count": null,
   "id": "a452ae2b-99cc-42ef-915b-0a57b09f1437",
   "metadata": {},
   "outputs": [
    {
     "name": "stdout",
     "output_type": "stream",
     "text": [
      "WARNING:tensorflow:No training configuration found in the save file, so the model was *not* compiled. Compile it manually.\n"
     ]
    }
   ],
   "source": [
    "embedder_path = 'facenet_keras.h5'\n",
    "embedder = load_model(embedder_path)"
   ]
  },
  {
   "cell_type": "code",
   "execution_count": 15,
   "id": "be4b25e9-90b6-4163-aeb4-09e9935957c6",
   "metadata": {},
   "outputs": [],
   "source": [
    "def load_and_preprocess_face(image_path):\n",
    "    image = cv2.imread(image_path)\n",
    "\n",
    "    if image is None:\n",
    "        print(f\"Erro ao carregar imagem: {image_path}\")\n",
    "        return None  # Retorna None para ser tratado depois\n",
    "\n",
    "    image = cv2.cvtColor(image, cv2.COLOR_BGR2RGB)  # OpenCV carrega em BGR, convertendo para RGB\n",
    "    image = cv2.resize(image, (160, 160))  # facenet exige imagens 160x160\n",
    "    image = np.array(image, dtype='float32') / 255.0  # Normalizar para [0,1]\n",
    "    return image"
   ]
  },
  {
   "cell_type": "code",
   "execution_count": 16,
   "id": "21d87c9c-a0a1-43f7-b415-509b4c7ffd0d",
   "metadata": {},
   "outputs": [],
   "source": [
    "# Gerar embeddings e salvar\n",
    "def generate_and_save_embeddings(root_directory, output_file):\n",
    "    embeddings = {}\n",
    "\n",
    "    for subdir, _, files in os.walk(root_directory):\n",
    "        label = os.path.basename(subdir)  # Nome do subdiretório (ex: nome da pessoa)\n",
    "        embeddings[label] = []\n",
    "\n",
    "        for filename in files:\n",
    "            image_path = os.path.join(subdir, filename)\n",
    "            if filename.lower().endswith(('.png', '.jpg', '.jpeg')):  \n",
    "                face = load_and_preprocess_face(image_path)\n",
    "                face = np.expand_dims(face, axis=0)  # Adicionar dimensão batch\n",
    "                embedding = embedder.predict(face)[0].tolist()  # Converter para lista\n",
    "                embeddings[label].append(embedding)  # Salvar embedding\n",
    "\n",
    "    # Salvar embeddings em um arquivo JSON\n",
    "    with open(output_file, 'w') as f:\n",
    "        json.dump(embeddings, f)"
   ]
  },
  {
   "cell_type": "code",
   "execution_count": null,
   "id": "9e8d5351-9ef2-4a8b-a8c5-f22d6bebe089",
   "metadata": {},
   "outputs": [],
   "source": [
    "# Diretório das faces e arquivo de saída\n",
    "faces_directory = \"Reconhecimento Facial\\\\faces\"\n",
    "output_file = \"embeddings.json\""
   ]
  },
  {
   "cell_type": "code",
   "execution_count": 18,
   "id": "a9638a36-d735-4011-8ab0-def7579f142a",
   "metadata": {},
   "outputs": [
    {
     "name": "stdout",
     "output_type": "stream",
     "text": [
      "Embeddings salvos em embeddings.json\n"
     ]
    }
   ],
   "source": [
    "# Gerar e salvar embeddings\n",
    "generate_and_save_embeddings(faces_directory, output_file)\n",
    "print(f\"Embeddings salvos em {output_file}\")"
   ]
  },
  {
   "cell_type": "code",
   "execution_count": null,
   "id": "800c7979-2649-4e47-9e1b-deb1b8c63706",
   "metadata": {},
   "outputs": [],
   "source": []
  }
 ],
 "metadata": {
  "kernelspec": {
   "display_name": "Python 3",
   "language": "python",
   "name": "python3"
  },
  "language_info": {
   "codemirror_mode": {
    "name": "ipython",
    "version": 3
   },
   "file_extension": ".py",
   "mimetype": "text/x-python",
   "name": "python",
   "nbconvert_exporter": "python",
   "pygments_lexer": "ipython3",
   "version": "3.6.13"
  }
 },
 "nbformat": 4,
 "nbformat_minor": 5
}
