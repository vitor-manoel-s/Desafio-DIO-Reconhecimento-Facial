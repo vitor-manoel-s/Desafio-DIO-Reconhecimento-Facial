{
 "cells": [
  {
   "cell_type": "code",
   "execution_count": 3,
   "id": "56f89600-0bd0-4772-bf8e-e599c8c2392c",
   "metadata": {},
   "outputs": [],
   "source": [
    "import json\n",
    "import cv2\n",
    "import numpy as np\n",
    "from mtcnn import MTCNN\n",
    "from scipy.spatial.distance import cosine\n",
    "from tensorflow.keras.models import load_model"
   ]
  },
  {
   "cell_type": "code",
   "execution_count": 4,
   "id": "2094378b-6f03-4819-b157-11c0d59ae7a3",
   "metadata": {},
   "outputs": [
    {
     "name": "stdout",
     "output_type": "stream",
     "text": [
      "WARNING:tensorflow:No training configuration found in the save file, so the model was *not* compiled. Compile it manually.\n"
     ]
    }
   ],
   "source": [
    "# Inicializar os modelos\n",
    "detector = MTCNN()   # Para detectar rostos\n",
    "embedder_path = 'facenet_keras.h5'\n",
    "embedder = load_model(embedder_path)"
   ]
  },
  {
   "cell_type": "code",
   "execution_count": 5,
   "id": "fab7aa34-82cd-4eac-9b3d-57a409365a9b",
   "metadata": {},
   "outputs": [],
   "source": [
    "# Carregar embeddings salvos\n",
    "with open(\"embeddings.json\", \"r\") as f:\n",
    "    stored_embeddings = json.load(f)"
   ]
  },
  {
   "cell_type": "code",
   "execution_count": 6,
   "id": "4acb3166-0478-4462-a996-66d58cfca24e",
   "metadata": {},
   "outputs": [],
   "source": [
    "# Função para carregar e preprocessar um rosto detectado\n",
    "def preprocess_face(image, box):\n",
    "    x, y, width, height = box\n",
    "    x, y = max(x, 0), max(y, 0)  # Evitar coordenadas negativas\n",
    "    face = image[y:y+height, x:x+width]  # Recortar rosto\n",
    "    face = cv2.resize(face, (160, 160))  # Redimensionar para o FaceNet\n",
    "    face = np.array(face, dtype='float32') / 255.0  # Normalizar\n",
    "    return face"
   ]
  },
  {
   "cell_type": "code",
   "execution_count": 7,
   "id": "cca858c3-a46d-4431-8788-714a51220380",
   "metadata": {},
   "outputs": [],
   "source": [
    "# Função para comparar embeddings\n",
    "def compare_embeddings(embedding1, embedding2):\n",
    "    return 1 - cosine(embedding1, embedding2)  # Quanto mais próximo de 1, mais similar"
   ]
  },
  {
   "cell_type": "code",
   "execution_count": 8,
   "id": "56f57249-9ef3-4e1f-abec-fb9e1fe7d4f9",
   "metadata": {},
   "outputs": [],
   "source": [
    "# Função para reconhecer múltiplos rostos em uma imagem\n",
    "def recognize_faces(image_path, threshold=0.5):\n",
    "    image = cv2.imread(image_path)\n",
    "    image_rgb = cv2.cvtColor(image, cv2.COLOR_BGR2RGB)  # Converter para RGB\n",
    "    faces_detected = detector.detect_faces(image_rgb)  # Detectar rostos\n",
    "\n",
    "    results = []\n",
    "\n",
    "    for face in faces_detected:\n",
    "        box = face[\"box\"]\n",
    "        processed_face = preprocess_face(image_rgb, box)\n",
    "        processed_face = np.expand_dims(processed_face, axis=0)\n",
    "        new_embedding = embedder.predict(processed_face)[0]  # Gerar embedding\n",
    "\n",
    "        best_match = \"Desconhecido\"\n",
    "        best_similarity = -1  \n",
    "\n",
    "        # Comparar com os embeddings armazenados\n",
    "        for label, embeddings in stored_embeddings.items():\n",
    "            for stored_embedding in embeddings:\n",
    "                similarity = compare_embeddings(new_embedding, stored_embedding)\n",
    "                if similarity > best_similarity:  # Atualiza o melhor match\n",
    "                    best_similarity = similarity\n",
    "                    best_match = label\n",
    "\n",
    "        if best_similarity >= threshold:\n",
    "            results.append((best_match, box, best_similarity))\n",
    "        else:\n",
    "            results.append((\"Desconhecido\", box, best_similarity))\n",
    "\n",
    "    return results, image"
   ]
  },
  {
   "cell_type": "code",
   "execution_count": null,
   "id": "8bfd8662-3f26-4634-aa26-0962dbb29cf8",
   "metadata": {},
   "outputs": [],
   "source": [
    "# Caminho da imagem nova\n",
    "new_image_path = \"Reconhecimento Facial\\\\the-big-bang-theory-cast-together.jpg\""
   ]
  },
  {
   "cell_type": "code",
   "execution_count": 10,
   "id": "6b0413c7-3bc8-495d-a613-c360e9d6adfc",
   "metadata": {},
   "outputs": [
    {
     "name": "stdout",
     "output_type": "stream",
     "text": [
      "WARNING:tensorflow:5 out of the last 5 calls to <function Model.make_predict_function.<locals>.predict_function at 0x000001B8415CAE18> triggered tf.function retracing. Tracing is expensive and the excessive number of tracings is likely due to passing python objects instead of tensors. Also, tf.function has experimental_relax_shapes=True option that relaxes argument shapes that can avoid unnecessary retracing. Please refer to https://www.tensorflow.org/tutorials/customization/performance#python_or_tensor_args and https://www.tensorflow.org/api_docs/python/tf/function for more details.\n",
      "WARNING:tensorflow:6 out of the last 6 calls to <function Model.make_predict_function.<locals>.predict_function at 0x000001B8415CAE18> triggered tf.function retracing. Tracing is expensive and the excessive number of tracings is likely due to passing python objects instead of tensors. Also, tf.function has experimental_relax_shapes=True option that relaxes argument shapes that can avoid unnecessary retracing. Please refer to https://www.tensorflow.org/tutorials/customization/performance#python_or_tensor_args and https://www.tensorflow.org/api_docs/python/tf/function for more details.\n",
      "WARNING:tensorflow:7 out of the last 7 calls to <function Model.make_predict_function.<locals>.predict_function at 0x000001B8415CAE18> triggered tf.function retracing. Tracing is expensive and the excessive number of tracings is likely due to passing python objects instead of tensors. Also, tf.function has experimental_relax_shapes=True option that relaxes argument shapes that can avoid unnecessary retracing. Please refer to https://www.tensorflow.org/tutorials/customization/performance#python_or_tensor_args and https://www.tensorflow.org/api_docs/python/tf/function for more details.\n",
      "WARNING:tensorflow:8 out of the last 8 calls to <function Model.make_predict_function.<locals>.predict_function at 0x000001B8415CAE18> triggered tf.function retracing. Tracing is expensive and the excessive number of tracings is likely due to passing python objects instead of tensors. Also, tf.function has experimental_relax_shapes=True option that relaxes argument shapes that can avoid unnecessary retracing. Please refer to https://www.tensorflow.org/tutorials/customization/performance#python_or_tensor_args and https://www.tensorflow.org/api_docs/python/tf/function for more details.\n",
      "WARNING:tensorflow:9 out of the last 9 calls to <function Model.make_predict_function.<locals>.predict_function at 0x000001B8415CAE18> triggered tf.function retracing. Tracing is expensive and the excessive number of tracings is likely due to passing python objects instead of tensors. Also, tf.function has experimental_relax_shapes=True option that relaxes argument shapes that can avoid unnecessary retracing. Please refer to https://www.tensorflow.org/tutorials/customization/performance#python_or_tensor_args and https://www.tensorflow.org/api_docs/python/tf/function for more details.\n",
      "WARNING:tensorflow:10 out of the last 10 calls to <function Model.make_predict_function.<locals>.predict_function at 0x000001B8415CAE18> triggered tf.function retracing. Tracing is expensive and the excessive number of tracings is likely due to passing python objects instead of tensors. Also, tf.function has experimental_relax_shapes=True option that relaxes argument shapes that can avoid unnecessary retracing. Please refer to https://www.tensorflow.org/tutorials/customization/performance#python_or_tensor_args and https://www.tensorflow.org/api_docs/python/tf/function for more details.\n",
      "WARNING:tensorflow:11 out of the last 11 calls to <function Model.make_predict_function.<locals>.predict_function at 0x000001B8415CAE18> triggered tf.function retracing. Tracing is expensive and the excessive number of tracings is likely due to passing python objects instead of tensors. Also, tf.function has experimental_relax_shapes=True option that relaxes argument shapes that can avoid unnecessary retracing. Please refer to https://www.tensorflow.org/tutorials/customization/performance#python_or_tensor_args and https://www.tensorflow.org/api_docs/python/tf/function for more details.\n"
     ]
    }
   ],
   "source": [
    "# Reconhecer os rostos\n",
    "recognized_faces, image = recognize_faces(new_image_path)"
   ]
  },
  {
   "cell_type": "code",
   "execution_count": 11,
   "id": "0dfbddcf-6514-441a-9b34-d19441232fe8",
   "metadata": {},
   "outputs": [],
   "source": [
    "# Exibir os resultados\n",
    "for name, box, similarity in recognized_faces:\n",
    "    x, y, w, h = box\n",
    "    cv2.rectangle(image, (x, y), (x+w, y+h), (0, 255, 0), 2)  # Desenhar retângulo\n",
    "    cv2.putText(image, f\"{name} ({similarity:.2f})\", (x, y-10), \n",
    "                cv2.FONT_HERSHEY_SIMPLEX, 0.5, (0, 255, 0), 2)  # Nome + Similaridade"
   ]
  },
  {
   "cell_type": "code",
   "execution_count": 12,
   "id": "a2b0edbf-40a1-4d8a-a554-24ce348ab3e7",
   "metadata": {},
   "outputs": [],
   "source": [
    "# Mostrar a imagem\n",
    "cv2.imshow(\"Reconhecimento Facial\", image)\n",
    "k = cv2.waitKey(0)\n",
    "if k == ord(\"s\"): # se s for pressionado salva a imagem\n",
    "    cv2.imwrite(\"resultado.jpg\", image)\n",
    "cv2.destroyAllWindows()"
   ]
  },
  {
   "cell_type": "code",
   "execution_count": null,
   "id": "99d5aaa9-adfd-4c79-9529-155ebdb0c6d5",
   "metadata": {},
   "outputs": [],
   "source": []
  }
 ],
 "metadata": {
  "kernelspec": {
   "display_name": "Python 3",
   "language": "python",
   "name": "python3"
  },
  "language_info": {
   "codemirror_mode": {
    "name": "ipython",
    "version": 3
   },
   "file_extension": ".py",
   "mimetype": "text/x-python",
   "name": "python",
   "nbconvert_exporter": "python",
   "pygments_lexer": "ipython3",
   "version": "3.6.13"
  }
 },
 "nbformat": 4,
 "nbformat_minor": 5
}
